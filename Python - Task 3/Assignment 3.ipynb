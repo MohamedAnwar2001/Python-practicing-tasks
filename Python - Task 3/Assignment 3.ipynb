{
 "cells": [
  {
   "cell_type": "markdown",
   "metadata": {},
   "source": [
    "# Assignment 3"
   ]
  },
  {
   "cell_type": "markdown",
   "metadata": {},
   "source": [
    "### Write a function to count the number 4 in a given list."
   ]
  },
  {
   "cell_type": "code",
   "execution_count": 1,
   "metadata": {},
   "outputs": [
    {
     "name": "stdout",
     "output_type": "stream",
     "text": [
      " please insert elements of a list , separated by space : 142 32 44 52 6 s4\n",
      " the list is ['142', '32', '44', '52', '6', 's4']\n",
      " number of 4 is repeated 4 times \n"
     ]
    }
   ],
   "source": [
    "def count(lst):\n",
    "    return sum(num.count('4') for num in lst)\n",
    "lst= input(\" please insert elements of a list , separated by space : \").split()\n",
    "count_of_4=count(lst)\n",
    "print(f\" the list is {lst}\")\n",
    "print(f\" number of 4 is repeated {count_of_4} times \")\n",
    "    \n",
    "            \n"
   ]
  },
  {
   "cell_type": "markdown",
   "metadata": {},
   "source": [
    "### write a  function to check whether a number is divisible by another number."
   ]
  },
  {
   "cell_type": "code",
   "execution_count": 6,
   "metadata": {},
   "outputs": [
    {
     "name": "stdout",
     "output_type": "stream",
     "text": [
      " Enter the first number  20\n",
      " Enter the second number6\n",
      "20 is not divisible by 6 \n"
     ]
    }
   ],
   "source": [
    "def check_div(num1,num2):\n",
    "    if num1 % num2 ==0 :\n",
    "        print(f\"{num1} is divisible by {num2} \")\n",
    "    else :\n",
    "        print(f\"{num1} is not divisible by {num2} \" )\n",
    "num1=int(input(\" Enter the first number  \"))\n",
    "num2=int(input(\" Enter the second number\"))\n",
    "check_div(num1,num2)"
   ]
  },
  {
   "cell_type": "markdown",
   "metadata": {},
   "source": [
    "### write a function to find the maximum and minimum numbers from a sequence of numbers."
   ]
  },
  {
   "cell_type": "code",
   "execution_count": 3,
   "metadata": {},
   "outputs": [
    {
     "name": "stdout",
     "output_type": "stream",
     "text": [
      "Enter a sequence of numbers separated by space: 14 22 36 20\n",
      "maximum number is 36 and minimum number is 14\n"
     ]
    }
   ],
   "source": [
    "def min_max(seq):\n",
    "    max=min=seq[0]\n",
    "    if len(seq)==0:\n",
    "        print(\" the sequence has no elements \")\n",
    "    for num in seq:\n",
    "        try:\n",
    "            if num>=max:\n",
    "                max = num\n",
    "            elif num<=min:\n",
    "                min =num\n",
    "        except ValueError:\n",
    "            \n",
    "            print(\" please enter numbers only \")\n",
    "    print(f\"maximum number is {max} and minimum number is {min}\")\n",
    "seq = list(map(int, input(\"Enter a sequence of numbers separated by space: \").split()))\n",
    "min_max(seq)"
   ]
  },
  {
   "cell_type": "markdown",
   "metadata": {},
   "source": [
    "### Write a Python function that takes two lists and returns True if they have at least one common member."
   ]
  },
  {
   "cell_type": "code",
   "execution_count": 13,
   "metadata": {},
   "outputs": [
    {
     "name": "stdout",
     "output_type": "stream",
     "text": [
      " enter the elements of the first list separated by spacemohamed kareem 4632 9 \n",
      " enter the elements of the second list separated by space kareem 14 55 33 00\n"
     ]
    },
    {
     "data": {
      "text/plain": [
       "True"
      ]
     },
     "execution_count": 13,
     "metadata": {},
     "output_type": "execute_result"
    }
   ],
   "source": [
    "def common_member(lst1,lst2):\n",
    "    for element in lst1 :\n",
    "        if element in lst2:\n",
    "            return True\n",
    "    return False\n",
    "lst1=input(\" enter the elements of the first list separated by space\").split()\n",
    "lst2=input(\" enter the elements of the second list separated by space \").split()\n",
    "common_member(lst1,lst2)\n",
    "    "
   ]
  },
  {
   "cell_type": "markdown",
   "metadata": {},
   "source": [
    "### Write a Python function to calculate the factorial of a number (a non-negative integer). The function accepts the number from the user"
   ]
  },
  {
   "cell_type": "code",
   "execution_count": 5,
   "metadata": {},
   "outputs": [
    {
     "name": "stdout",
     "output_type": "stream",
     "text": [
      "enter a number 6\n",
      "the factorial of 6 is 720\n"
     ]
    }
   ],
   "source": [
    "def factorial(num):\n",
    "    if num ==0 or num==1:\n",
    "        return 1\n",
    "    else :\n",
    "        return num*factorial(num-1)\n",
    "num=int(input(\"enter a number \"))\n",
    "if num<0:\n",
    "    print(\"factorial is only for non-negative numbers \")\n",
    "else:\n",
    "    factorial=factorial(num)\n",
    "    print(f\"the factorial of {num} is {factorial}\")"
   ]
  },
  {
   "cell_type": "markdown",
   "metadata": {},
   "source": [
    "### Write a Python function to check whether a number is in a given range.\n",
    "\n",
    "### The range is from 3 to 11\n"
   ]
  },
  {
   "cell_type": "code",
   "execution_count": 11,
   "metadata": {},
   "outputs": [
    {
     "name": "stdout",
     "output_type": "stream",
     "text": [
      " number 3 is in the range \n",
      " number 5 is in the range \n",
      "number 11 isn't in the range\n"
     ]
    }
   ],
   "source": [
    "def check_range(num):\n",
    "    if num>=3 and num<11:# considering  11 out of the range\n",
    "        print(f\" number {num} is in the range \")\n",
    "    else :\n",
    "        print(f\"number {num} isn't in the range\")\n",
    "check_range(3)\n",
    "check_range(5)\n",
    "check_range(11)"
   ]
  },
  {
   "cell_type": "markdown",
   "metadata": {},
   "source": [
    "### Write a  program to create the multiplication table (from 1 to 10) of a number."
   ]
  },
  {
   "cell_type": "code",
   "execution_count": 15,
   "metadata": {},
   "outputs": [
    {
     "name": "stdout",
     "output_type": "stream",
     "text": [
      " enter  a number : 6\n",
      "6*1 = 6\n",
      "6*2 = 12\n",
      "6*3 = 18\n",
      "6*4 = 24\n",
      "6*5 = 30\n",
      "6*6 = 36\n",
      "6*7 = 42\n",
      "6*8 = 48\n",
      "6*9 = 54\n",
      "6*10 = 60\n"
     ]
    }
   ],
   "source": [
    "def mul_table(num):\n",
    "    for i in range(1,11):\n",
    "        print(f\"{num}*{i} = {num*i}\" )\n",
    "num=int(input(\" enter  a number : \"))\n",
    "mul_table(num)"
   ]
  },
  {
   "cell_type": "markdown",
   "metadata": {},
   "source": [
    "#### LESSER OF TWO EVENS: Write a function that returns the lesser of two given numbers *if* both numbers are even, but returns the greater if one or both numbers are odd\n",
    "    lesser_of_two_evens(2,4) --> 2\n",
    "    lesser_of_two_evens(2,5) --> 5"
   ]
  },
  {
   "cell_type": "code",
   "execution_count": 4,
   "metadata": {},
   "outputs": [
    {
     "data": {
      "text/plain": [
       "77"
      ]
     },
     "execution_count": 4,
     "metadata": {},
     "output_type": "execute_result"
    }
   ],
   "source": [
    "def lesser_of_two_evens(num1,num2):\n",
    "    if num1 %2==0 and num2%2==0 :\n",
    "        return min(num1,num2)\n",
    "    else:\n",
    "        return max(num1,num2)\n",
    "lesser_of_two_evens(12,77)"
   ]
  },
  {
   "cell_type": "markdown",
   "metadata": {},
   "source": [
    "#### ANIMAL CRACKERS: Write a function takes a two-word string and returns True if both words begin with same letter\n",
    "    animal_crackers('Levelheaded Llama') --> True\n",
    "    animal_crackers('Crazy Kangaroo') --> False"
   ]
  },
  {
   "cell_type": "code",
   "execution_count": 9,
   "metadata": {},
   "outputs": [
    {
     "name": "stdout",
     "output_type": "stream",
     "text": [
      "True\n",
      "True\n",
      "False\n"
     ]
    }
   ],
   "source": [
    "def animal_crackers(string):\n",
    "    lst=string.split()\n",
    "   \n",
    "    if lst[0][0] ==lst[1][0] :\n",
    "        return True\n",
    "    else:\n",
    "        return False\n",
    "print(animal_crackers('    mohamed      mnwar'))\n",
    "print(animal_crackers('Levelheaded Llama'))\n",
    "print(animal_crackers('Crazy Kangaroo'))\n",
    "\n",
    "        "
   ]
  },
  {
   "cell_type": "markdown",
   "metadata": {},
   "source": [
    "#### MAKES TWENTY: Given two integers, return True if the sum of the integers is 20 *or* if one of the integers is 20. If not, return False\n",
    "\n",
    "    makes_twenty(20,10) --> True\n",
    "    makes_twenty(12,8) --> True\n",
    "    makes_twenty(2,3) --> False"
   ]
  },
  {
   "cell_type": "code",
   "execution_count": 15,
   "metadata": {},
   "outputs": [
    {
     "name": "stdout",
     "output_type": "stream",
     "text": [
      "True\n",
      "True\n",
      "False\n"
     ]
    }
   ],
   "source": [
    "def makes_twenty(num1,num2):\n",
    "    sum = num1+num2\n",
    "    if sum==20 or num1==20 or num2==20 :\n",
    "        return True\n",
    "    else :\n",
    "        return False\n",
    "\n",
    "print(makes_twenty(20,10) )\n",
    "print(makes_twenty(12,8) )\n",
    "print(makes_twenty(2,3) )"
   ]
  },
  {
   "cell_type": "markdown",
   "metadata": {},
   "source": [
    "#### ALMOST THERE: Given an integer n, return True if n is within 10 of either 100 or 200\n",
    "\n",
    "    almost_there(90) --> True\n",
    "    almost_there(104) --> True\n",
    "    almost_there(150) --> False\n",
    "    almost_there(209) --> True\n",
    "    \n",
    "NOTE: `abs(num)` returns the absolute value of a number"
   ]
  },
  {
   "cell_type": "code",
   "execution_count": 21,
   "metadata": {},
   "outputs": [
    {
     "name": "stdout",
     "output_type": "stream",
     "text": [
      "True\n",
      "True\n",
      "True\n",
      "False\n",
      "True\n"
     ]
    }
   ],
   "source": [
    "def almost_there(num):\n",
    "    if abs(num-100)<=10 or abs(num-200)<=10 :\n",
    "        return True\n",
    "    else:\n",
    "        return False\n",
    "print(almost_there(110))\n",
    "print(almost_there(90) )\n",
    "print(almost_there(104)) \n",
    "print(almost_there(150) )\n",
    "print(almost_there(209))"
   ]
  },
  {
   "cell_type": "markdown",
   "metadata": {},
   "source": [
    "#### BLACKJACK: Given three integers between 1 and 11, if their sum is less than or equal to 21, return their sum. If their sum exceeds 21 *and* there's an eleven, reduce the total sum by 10. Finally, if the sum  exceeds 21, return 'BUST'\n",
    "    blackjack(5,6,7) --> 18\n",
    "    blackjack(9,9,9) --> 'BUST'\n",
    "    blackjack(9,9,11) --> 19"
   ]
  },
  {
   "cell_type": "code",
   "execution_count": 28,
   "metadata": {},
   "outputs": [
    {
     "name": "stdout",
     "output_type": "stream",
     "text": [
      "19\n",
      "21\n"
     ]
    }
   ],
   "source": [
    "def blackjack(num1,num2,num3):\n",
    "    sum= num1+num2+num3 \n",
    "    if  sum<=21 :\n",
    "        return sum\n",
    "    elif (sum>21 and (num1==11 or num2==11 or num3==11)):\n",
    "        reduced_sum=sum-10\n",
    "        if reduced_sum>21:\n",
    "            return \"BUST\"\n",
    "        else :\n",
    "            return reduced_sum\n",
    "print(blackjack(9,9,11))\n",
    "print(blackjack(11,9,1))"
   ]
  },
  {
   "cell_type": "code",
   "execution_count": null,
   "metadata": {},
   "outputs": [],
   "source": []
  }
 ],
 "metadata": {
  "kernelspec": {
   "display_name": "Python 3 (ipykernel)",
   "language": "python",
   "name": "python3"
  },
  "language_info": {
   "codemirror_mode": {
    "name": "ipython",
    "version": 3
   },
   "file_extension": ".py",
   "mimetype": "text/x-python",
   "name": "python",
   "nbconvert_exporter": "python",
   "pygments_lexer": "ipython3",
   "version": "3.9.13"
  }
 },
 "nbformat": 4,
 "nbformat_minor": 2
}
