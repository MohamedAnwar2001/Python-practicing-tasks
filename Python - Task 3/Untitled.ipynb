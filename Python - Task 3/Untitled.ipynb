{
 "cells": [
  {
   "cell_type": "code",
   "execution_count": 6,
   "id": "0b7d13ec",
   "metadata": {},
   "outputs": [
    {
     "data": {
      "text/plain": [
       "99"
      ]
     },
     "execution_count": 6,
     "metadata": {},
     "output_type": "execute_result"
    }
   ],
   "source": [
    "def max(lst):\n",
    "    max = lst[0]\n",
    "    for i in lst :\n",
    "        if i > max:\n",
    "            max =i\n",
    "    return max\n",
    "lst=[1,2,3,4,5,6,2,5,2,5,99,23]\n",
    "max(lst)"
   ]
  },
  {
   "cell_type": "code",
   "execution_count": 17,
   "id": "487d4113",
   "metadata": {},
   "outputs": [
    {
     "name": "stdout",
     "output_type": "stream",
     "text": [
      "{12}\n",
      "{12, 55}\n",
      "{66, 12, 55}\n",
      "{66, 12, 55}\n",
      "{66, 12, 23, 55}\n",
      "{66, 2, 12, 55, 23}\n",
      "Repeated elements: [66]\n"
     ]
    }
   ],
   "source": [
    "# to find repititons in a list\n",
    "def duplicates(lst):\n",
    "    unique = set()\n",
    "    repeated = []\n",
    "\n",
    "    for item in lst:\n",
    "        if item in unique:\n",
    "            repeated.append(item)\n",
    "        unique.add(item)\n",
    "        print(unique)\n",
    "    return repeated\n",
    "\n",
    "\n",
    "my_list = [12,55,66,66,23,2]\n",
    "print(\"Repeated elements:\",  duplicates(my_list))\n"
   ]
  },
  {
   "cell_type": "code",
   "execution_count": 19,
   "id": "70c48d84",
   "metadata": {},
   "outputs": [
    {
     "ename": "SyntaxError",
     "evalue": "unexpected EOF while parsing (1368238103.py, line 8)",
     "output_type": "error",
     "traceback": [
      "\u001b[1;36m  File \u001b[1;32m\"C:\\Users\\Anwar\\AppData\\Local\\Temp\\ipykernel_788\\1368238103.py\"\u001b[1;36m, line \u001b[1;32m8\u001b[0m\n\u001b[1;33m    \u001b[0m\n\u001b[1;37m    ^\u001b[0m\n\u001b[1;31mSyntaxError\u001b[0m\u001b[1;31m:\u001b[0m unexpected EOF while parsing\n"
     ]
    }
   ],
   "source": [
    "# easier code \n",
    "numbers = input().split()\n",
    "lst=[]\n",
    "for n in numbers:\n",
    "    if numbers.count(n)>1:\n",
    "        lst.append(n)\n",
    "print(set(lst)\n",
    "        "
   ]
  },
  {
   "cell_type": "code",
   "execution_count": null,
   "id": "3cfba019",
   "metadata": {},
   "outputs": [],
   "source": []
  }
 ],
 "metadata": {
  "kernelspec": {
   "display_name": "Python 3 (ipykernel)",
   "language": "python",
   "name": "python3"
  },
  "language_info": {
   "codemirror_mode": {
    "name": "ipython",
    "version": 3
   },
   "file_extension": ".py",
   "mimetype": "text/x-python",
   "name": "python",
   "nbconvert_exporter": "python",
   "pygments_lexer": "ipython3",
   "version": "3.9.13"
  }
 },
 "nbformat": 4,
 "nbformat_minor": 5
}
