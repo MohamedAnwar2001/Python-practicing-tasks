{
 "cells": [
  {
   "cell_type": "code",
   "execution_count": 1,
   "id": "f390a1a3",
   "metadata": {},
   "outputs": [
    {
     "name": "stdout",
     "output_type": "stream",
     "text": [
      "Please enter your first name: mo\n",
      "Enter your last name: anwar\n",
      "Your gender: male\n",
      "Enter your ID (3 numbers): 12\n",
      "Invalid ID! Please enter exactly 3 digits.\n",
      "Enter your ID (3 numbers): 13\n",
      "Invalid ID! Please enter exactly 3 digits.\n",
      "Enter your ID (3 numbers): 52\n",
      "Invalid ID! Please enter exactly 3 digits.\n",
      "Enter your ID (3 numbers): 321\n",
      "First Name: mo\n",
      "Last Name: anwar\n",
      "Gender: male\n",
      "ID: 321\n"
     ]
    }
   ],
   "source": [
    "#Write a function to get user info first name, last name, gender,\n",
    "#id (3 numbers) and save it to a text file.\n",
    "def info (path):\n",
    "    f_name = input(\"Please enter your first name: \")\n",
    "    l_name = input(\"Enter your last name: \")\n",
    "    gender = input(\"Your gender: \")\n",
    "    while True: # to ensure that the id must be 3 digits\n",
    "        user_id = input(\"Enter your ID (3 numbers): \")\n",
    "        if user_id.isdigit() and len(user_id) == 3:\n",
    "            break\n",
    "        else:\n",
    "            print(\"Invalid ID! Please enter exactly 3 digits.\")\n",
    "    with open(path, \"w\") as file:\n",
    "        user_info = f\"First Name: {f_name}\\nLast Name: {l_name}\\nGender: {gender}\\nID: {user_id}\\n\"\n",
    "        file.write(user_info)\n",
    "if __name__ == '__main__':\n",
    "    info(\"SIC.txt\")\n",
    "    with open(\"SIC.txt\") as f:\n",
    "        list=f.readlines()\n",
    "        for line in list:\n",
    "            print(line.strip())\n"
   ]
  },
  {
   "cell_type": "code",
   "execution_count": null,
   "id": "96b98066",
   "metadata": {},
   "outputs": [],
   "source": []
  }
 ],
 "metadata": {
  "kernelspec": {
   "display_name": "Python 3 (ipykernel)",
   "language": "python",
   "name": "python3"
  },
  "language_info": {
   "codemirror_mode": {
    "name": "ipython",
    "version": 3
   },
   "file_extension": ".py",
   "mimetype": "text/x-python",
   "name": "python",
   "nbconvert_exporter": "python",
   "pygments_lexer": "ipython3",
   "version": "3.9.13"
  }
 },
 "nbformat": 4,
 "nbformat_minor": 5
}
