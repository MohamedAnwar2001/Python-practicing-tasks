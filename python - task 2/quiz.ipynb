{
 "cells": [
  {
   "cell_type": "code",
   "execution_count": 5,
   "id": "9bee6616",
   "metadata": {},
   "outputs": [
    {
     "name": "stdout",
     "output_type": "stream",
     "text": [
      "['Hello, this is Anwar!\\n', \"I'm writing into a file named anwar.txt.\\n\"]\n"
     ]
    }
   ],
   "source": [
    "with open(\"anwar.txt\", \"w\") as file:\n",
    "    \n",
    "    file.write(\"Hello, this is Anwar!\\n\")\n",
    "    file.write(\"I'm writing into a file named anwar.txt.\\n\")\n",
    "    \n",
    "    \n",
    "with open(\"anwar.txt\") as f:\n",
    "    list=f.readlines()\n",
    "    print(list)"
   ]
  },
  {
   "cell_type": "code",
   "execution_count": 2,
   "id": "73d01242",
   "metadata": {},
   "outputs": [
    {
     "data": {
      "text/plain": [
       "[0, 1, 2, 3, 4]"
      ]
     },
     "execution_count": 2,
     "metadata": {},
     "output_type": "execute_result"
    }
   ],
   "source": [
    "x=[]\n",
    "for i in range(5):\n",
    "   \n",
    "    x.append(i)\n",
    "x"
   ]
  }
 ],
 "metadata": {
  "kernelspec": {
   "display_name": "Python 3 (ipykernel)",
   "language": "python",
   "name": "python3"
  },
  "language_info": {
   "codemirror_mode": {
    "name": "ipython",
    "version": 3
   },
   "file_extension": ".py",
   "mimetype": "text/x-python",
   "name": "python",
   "nbconvert_exporter": "python",
   "pygments_lexer": "ipython3",
   "version": "3.9.13"
  }
 },
 "nbformat": 4,
 "nbformat_minor": 5
}
