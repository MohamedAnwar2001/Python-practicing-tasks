{
 "cells": [
  {
   "cell_type": "code",
   "execution_count": 9,
   "id": "cefc76f2",
   "metadata": {},
   "outputs": [
    {
     "name": "stdout",
     "output_type": "stream",
     "text": [
      "5\n",
      "kareem\n",
      "10\n",
      "mohsen\n",
      "20\n",
      "ali\n",
      "20\n",
      "mah\n",
      "40\n",
      "ksk\n",
      "40\n",
      "ali\n",
      "mohsen\n"
     ]
    }
   ],
   "source": [
    "# finding second lowest grade\n",
    "stud_list=[]\n",
    "grades_list=[]\n",
    "for stud_num in range(int(input())):\n",
    "    name = input()\n",
    "    grades=float(input())\n",
    "    stud_list+=[[name,grades]]\n",
    "    grades_list+=[grades]\n",
    "second_lowest_grade=sorted(list(set(grades_list)))[1]\n",
    "for stud_name , stud_grade in sorted(stud_list):\n",
    "    if stud_grade==second_lowest_grade:\n",
    "        print(stud_name)\n",
    "\n"
   ]
  },
  {
   "cell_type": "code",
   "execution_count": 2,
   "id": "80781054",
   "metadata": {},
   "outputs": [
    {
     "name": "stdout",
     "output_type": "stream",
     "text": [
      "59  3 6 89 5 6 4\n",
      "59\n"
     ]
    }
   ],
   "source": [
    "n = input()\n",
    "arr = map(int, n.split())  # Split the input line and convert each value to an integer\n",
    "sorted_list = sorted(list(set(arr)))\n",
    "runner_up = sorted_list[-2]\n",
    "print(runner_up)\n"
   ]
  },
  {
   "cell_type": "code",
   "execution_count": 7,
   "id": "0ed52ebd",
   "metadata": {},
   "outputs": [
    {
     "name": "stdout",
     "output_type": "stream",
     "text": [
      "enter string: kjjslsolllsk,xmjs\n",
      "enter substring: kj\n",
      "1\n"
     ]
    }
   ],
   "source": [
    "# substring in a string\n",
    "\n",
    "def count_substring(string, sub_string):\n",
    "    counter = 0\n",
    "    for i in range(len(string)):\n",
    "        if string[i: len(string)].startswith(sub_string):# [i:i+len[substring]]\n",
    "            counter += 1\n",
    "    return counter\n",
    "\n",
    "string = input(\"enter string: \").strip()\n",
    "sub_string = input(\"enter substring: \").strip()\n",
    "count = count_substring(string, sub_string)\n",
    "print(count)\n",
    "\n",
    "    "
   ]
  },
  {
   "cell_type": "code",
   "execution_count": null,
   "id": "cffa76ac",
   "metadata": {},
   "outputs": [],
   "source": []
  },
  {
   "cell_type": "code",
   "execution_count": null,
   "id": "bb24927e",
   "metadata": {},
   "outputs": [],
   "source": []
  }
 ],
 "metadata": {
  "kernelspec": {
   "display_name": "Python 3 (ipykernel)",
   "language": "python",
   "name": "python3"
  },
  "language_info": {
   "codemirror_mode": {
    "name": "ipython",
    "version": 3
   },
   "file_extension": ".py",
   "mimetype": "text/x-python",
   "name": "python",
   "nbconvert_exporter": "python",
   "pygments_lexer": "ipython3",
   "version": "3.9.13"
  }
 },
 "nbformat": 4,
 "nbformat_minor": 5
}
